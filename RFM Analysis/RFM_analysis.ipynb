{
 "cells": [
  {
   "cell_type": "code",
   "execution_count": 25,
   "id": "ac4b5b95-80db-4c84-8579-e29368ea6933",
   "metadata": {},
   "outputs": [],
   "source": [
    "import pandas as pd\n",
    "import matplotlib.pyplot as plt\n",
    "%matplotlib inline \n",
    "import seaborn as sns"
   ]
  },
  {
   "cell_type": "markdown",
   "id": "6cd0cacd-74d7-4638-bd8a-0159567a747d",
   "metadata": {},
   "source": [
    "## 1️ Load the Dataset\n",
    "\n",
    "We are using the **Online Retail dataset** from the UCI Machine Learning Repository.  \n",
    "This dataset contains e-commerce transactions for a UK-based online retailer.  \n",
    "\n",
    "- Columns: InvoiceNo, StockCode, Description, Quantity, InvoiceDate, UnitPrice, CustomerID, Country  \n",
    "- Purpose: To analyze customer purchase behaviour for segmentation using RFM analysis.  \n"
   ]
  },
  {
   "cell_type": "code",
   "execution_count": 26,
   "id": "5bef54e7-78c7-4a62-b3b3-20ecbec014c0",
   "metadata": {},
   "outputs": [
    {
     "data": {
      "text/html": [
       "<div>\n",
       "<style scoped>\n",
       "    .dataframe tbody tr th:only-of-type {\n",
       "        vertical-align: middle;\n",
       "    }\n",
       "\n",
       "    .dataframe tbody tr th {\n",
       "        vertical-align: top;\n",
       "    }\n",
       "\n",
       "    .dataframe thead th {\n",
       "        text-align: right;\n",
       "    }\n",
       "</style>\n",
       "<table border=\"1\" class=\"dataframe\">\n",
       "  <thead>\n",
       "    <tr style=\"text-align: right;\">\n",
       "      <th></th>\n",
       "      <th>InvoiceNo</th>\n",
       "      <th>StockCode</th>\n",
       "      <th>Description</th>\n",
       "      <th>Quantity</th>\n",
       "      <th>InvoiceDate</th>\n",
       "      <th>UnitPrice</th>\n",
       "      <th>CustomerID</th>\n",
       "      <th>Country</th>\n",
       "    </tr>\n",
       "  </thead>\n",
       "  <tbody>\n",
       "    <tr>\n",
       "      <th>0</th>\n",
       "      <td>536365</td>\n",
       "      <td>85123A</td>\n",
       "      <td>WHITE HANGING HEART T-LIGHT HOLDER</td>\n",
       "      <td>6</td>\n",
       "      <td>2010-12-01 08:26:00</td>\n",
       "      <td>2.55</td>\n",
       "      <td>17850.0</td>\n",
       "      <td>United Kingdom</td>\n",
       "    </tr>\n",
       "    <tr>\n",
       "      <th>1</th>\n",
       "      <td>536365</td>\n",
       "      <td>71053</td>\n",
       "      <td>WHITE METAL LANTERN</td>\n",
       "      <td>6</td>\n",
       "      <td>2010-12-01 08:26:00</td>\n",
       "      <td>3.39</td>\n",
       "      <td>17850.0</td>\n",
       "      <td>United Kingdom</td>\n",
       "    </tr>\n",
       "    <tr>\n",
       "      <th>2</th>\n",
       "      <td>536365</td>\n",
       "      <td>84406B</td>\n",
       "      <td>CREAM CUPID HEARTS COAT HANGER</td>\n",
       "      <td>8</td>\n",
       "      <td>2010-12-01 08:26:00</td>\n",
       "      <td>2.75</td>\n",
       "      <td>17850.0</td>\n",
       "      <td>United Kingdom</td>\n",
       "    </tr>\n",
       "    <tr>\n",
       "      <th>3</th>\n",
       "      <td>536365</td>\n",
       "      <td>84029G</td>\n",
       "      <td>KNITTED UNION FLAG HOT WATER BOTTLE</td>\n",
       "      <td>6</td>\n",
       "      <td>2010-12-01 08:26:00</td>\n",
       "      <td>3.39</td>\n",
       "      <td>17850.0</td>\n",
       "      <td>United Kingdom</td>\n",
       "    </tr>\n",
       "    <tr>\n",
       "      <th>4</th>\n",
       "      <td>536365</td>\n",
       "      <td>84029E</td>\n",
       "      <td>RED WOOLLY HOTTIE WHITE HEART.</td>\n",
       "      <td>6</td>\n",
       "      <td>2010-12-01 08:26:00</td>\n",
       "      <td>3.39</td>\n",
       "      <td>17850.0</td>\n",
       "      <td>United Kingdom</td>\n",
       "    </tr>\n",
       "  </tbody>\n",
       "</table>\n",
       "</div>"
      ],
      "text/plain": [
       "  InvoiceNo StockCode                          Description  Quantity  \\\n",
       "0    536365    85123A   WHITE HANGING HEART T-LIGHT HOLDER         6   \n",
       "1    536365     71053                  WHITE METAL LANTERN         6   \n",
       "2    536365    84406B       CREAM CUPID HEARTS COAT HANGER         8   \n",
       "3    536365    84029G  KNITTED UNION FLAG HOT WATER BOTTLE         6   \n",
       "4    536365    84029E       RED WOOLLY HOTTIE WHITE HEART.         6   \n",
       "\n",
       "          InvoiceDate  UnitPrice  CustomerID         Country  \n",
       "0 2010-12-01 08:26:00       2.55     17850.0  United Kingdom  \n",
       "1 2010-12-01 08:26:00       3.39     17850.0  United Kingdom  \n",
       "2 2010-12-01 08:26:00       2.75     17850.0  United Kingdom  \n",
       "3 2010-12-01 08:26:00       3.39     17850.0  United Kingdom  \n",
       "4 2010-12-01 08:26:00       3.39     17850.0  United Kingdom  "
      ]
     },
     "execution_count": 26,
     "metadata": {},
     "output_type": "execute_result"
    }
   ],
   "source": [
    "df = pd.read_excel('Online Retail.xlsx')\n",
    "df.head()"
   ]
  },
  {
   "cell_type": "code",
   "execution_count": 27,
   "id": "b26ac834-28a2-4231-8781-c85220c7549a",
   "metadata": {},
   "outputs": [
    {
     "data": {
      "text/plain": [
       "(541909, 8)"
      ]
     },
     "execution_count": 27,
     "metadata": {},
     "output_type": "execute_result"
    }
   ],
   "source": [
    "df.shape"
   ]
  },
  {
   "cell_type": "code",
   "execution_count": 28,
   "id": "64a3c87b-b877-43a6-bbc4-fde7d8dc7943",
   "metadata": {},
   "outputs": [
    {
     "data": {
      "text/plain": [
       "InvoiceNo              object\n",
       "StockCode              object\n",
       "Description            object\n",
       "Quantity                int64\n",
       "InvoiceDate    datetime64[ns]\n",
       "UnitPrice             float64\n",
       "CustomerID            float64\n",
       "Country                object\n",
       "dtype: object"
      ]
     },
     "execution_count": 28,
     "metadata": {},
     "output_type": "execute_result"
    }
   ],
   "source": [
    "df.dtypes"
   ]
  },
  {
   "cell_type": "markdown",
   "id": "257c2517-ae41-428c-95c2-d9ff7c60d93b",
   "metadata": {},
   "source": [
    "## 2 Data Cleaning\n",
    "\n",
    " Before performing RFM analysis, we need to clean the dataset (using EDA) to ensure the results are accurate.  \n",
    " I applied the following data cleaning steps:\n",
    "\n",
    "1. **Removed rows with missing `CustomerID`**  \n",
    "   - These customers can't be tracked over time, which is essential for RFM.  \n",
    "   - About 135080 rows (a significant portion) had no CustomerID and were dropped.Because RFM is calculated per customer,\n",
    "   I can’t group or track customers without an ID, so removing those rows was the only valid option.  \n",
    "\n",
    "2. **Removed cancelled transactions**  \n",
    "   - Invoices starting with `\"C\"` indicate cancelled orders.  \n",
    "   - These would distort the frequency and monetary value, so I removed them.  \n",
    "\n",
    "3. **Removed rows with missing `Description`**  \n",
    "   - Around 1,454 rows had no product description.  \n",
    "   - Since product name is not used in RFM, these rows were dropped for consistency.  \n",
    "\n",
    "4. **Removed rows with non-positive `Quantity` or `UnitPrice`**  \n",
    "   - These include returns\n"
   ]
  },
  {
   "cell_type": "code",
   "execution_count": 29,
   "id": "dcfec994-3029-4bf6-b9cf-9d227437db2d",
   "metadata": {},
   "outputs": [
    {
     "data": {
      "text/plain": [
       "InvoiceNo           0\n",
       "StockCode           0\n",
       "Description      1454\n",
       "Quantity            0\n",
       "InvoiceDate         0\n",
       "UnitPrice           0\n",
       "CustomerID     135080\n",
       "Country             0\n",
       "dtype: int64"
      ]
     },
     "execution_count": 29,
     "metadata": {},
     "output_type": "execute_result"
    }
   ],
   "source": [
    "df.isna().sum()"
   ]
  },
  {
   "cell_type": "code",
   "execution_count": 30,
   "id": "8f12da6e-e42a-4ced-98e0-38de25ca5876",
   "metadata": {},
   "outputs": [],
   "source": [
    "df = df[df['Quantity'] > 0]\n",
    "df = df[df['UnitPrice'] > 0]"
   ]
  },
  {
   "cell_type": "code",
   "execution_count": 31,
   "id": "87b40f0c-b3cc-4bee-9361-b77757908824",
   "metadata": {},
   "outputs": [
    {
     "name": "stdout",
     "output_type": "stream",
     "text": [
      "Missing descriptions: 0\n"
     ]
    }
   ],
   "source": [
    "print(\"Missing descriptions:\", df['Description'].isna().sum())\n",
    "df = df[df['Description'].notnull()]"
   ]
  },
  {
   "cell_type": "code",
   "execution_count": 32,
   "id": "efc6f785-b8dd-481f-aad7-0562d102a8c0",
   "metadata": {},
   "outputs": [],
   "source": [
    "df = df[df['CustomerID'].notnull()]\n",
    "df = df[~df['InvoiceNo'].astype(str).str.startswith('C')]"
   ]
  },
  {
   "cell_type": "code",
   "execution_count": 33,
   "id": "ab126fbb-837d-4b3e-93d5-a3befb2e1b81",
   "metadata": {},
   "outputs": [],
   "source": [
    "df['TotalSum'] = df['Quantity'] * df['UnitPrice']\n"
   ]
  },
  {
   "cell_type": "code",
   "execution_count": 34,
   "id": "2cdf6fc1-b60d-4c1f-af51-c125dd04c2fb",
   "metadata": {},
   "outputs": [
    {
     "data": {
      "text/plain": [
       "(397884, 9)"
      ]
     },
     "execution_count": 34,
     "metadata": {},
     "output_type": "execute_result"
    }
   ],
   "source": [
    "df.shape"
   ]
  },
  {
   "cell_type": "markdown",
   "id": "50b68edf-7c3d-4a49-b70d-a4671ab414c1",
   "metadata": {},
   "source": [
    "## 3 Calculate RFM Metrics\n",
    "\n",
    "I grouped the data by `CustomerID` and calculated:\n",
    "\n",
    "- **Recency (R):** Days since last purchase (lower is better).  \n",
    "- **Frequency (F):** Number of unique purchase invoices.  \n",
    "- **Monetary (M):** Total amount spent.  \n",
    "\n",
    "These three metrics give a complete picture of customer behavior.\n"
   ]
  },
  {
   "cell_type": "code",
   "execution_count": 35,
   "id": "1484da8d-38d1-4ffa-8dc2-0857fd3c028c",
   "metadata": {},
   "outputs": [
    {
     "data": {
      "text/html": [
       "<div>\n",
       "<style scoped>\n",
       "    .dataframe tbody tr th:only-of-type {\n",
       "        vertical-align: middle;\n",
       "    }\n",
       "\n",
       "    .dataframe tbody tr th {\n",
       "        vertical-align: top;\n",
       "    }\n",
       "\n",
       "    .dataframe thead th {\n",
       "        text-align: right;\n",
       "    }\n",
       "</style>\n",
       "<table border=\"1\" class=\"dataframe\">\n",
       "  <thead>\n",
       "    <tr style=\"text-align: right;\">\n",
       "      <th></th>\n",
       "      <th>CustomerID</th>\n",
       "      <th>Recency</th>\n",
       "      <th>Frequency</th>\n",
       "      <th>Monetary</th>\n",
       "    </tr>\n",
       "  </thead>\n",
       "  <tbody>\n",
       "    <tr>\n",
       "      <th>0</th>\n",
       "      <td>12346.0</td>\n",
       "      <td>326</td>\n",
       "      <td>1</td>\n",
       "      <td>77183.60</td>\n",
       "    </tr>\n",
       "    <tr>\n",
       "      <th>1</th>\n",
       "      <td>12347.0</td>\n",
       "      <td>2</td>\n",
       "      <td>7</td>\n",
       "      <td>4310.00</td>\n",
       "    </tr>\n",
       "    <tr>\n",
       "      <th>2</th>\n",
       "      <td>12348.0</td>\n",
       "      <td>75</td>\n",
       "      <td>4</td>\n",
       "      <td>1797.24</td>\n",
       "    </tr>\n",
       "    <tr>\n",
       "      <th>3</th>\n",
       "      <td>12349.0</td>\n",
       "      <td>19</td>\n",
       "      <td>1</td>\n",
       "      <td>1757.55</td>\n",
       "    </tr>\n",
       "    <tr>\n",
       "      <th>4</th>\n",
       "      <td>12350.0</td>\n",
       "      <td>310</td>\n",
       "      <td>1</td>\n",
       "      <td>334.40</td>\n",
       "    </tr>\n",
       "  </tbody>\n",
       "</table>\n",
       "</div>"
      ],
      "text/plain": [
       "   CustomerID  Recency  Frequency  Monetary\n",
       "0     12346.0      326          1  77183.60\n",
       "1     12347.0        2          7   4310.00\n",
       "2     12348.0       75          4   1797.24\n",
       "3     12349.0       19          1   1757.55\n",
       "4     12350.0      310          1    334.40"
      ]
     },
     "execution_count": 35,
     "metadata": {},
     "output_type": "execute_result"
    }
   ],
   "source": [
    "# Set snapshot date to one day after the last invoice\n",
    "snapshot_date = df['InvoiceDate'].max() + pd.Timedelta(days=1)\n",
    "\n",
    "# Calculate RFM per CustomerID\n",
    "rfm = df.groupby('CustomerID').agg({\n",
    "    'InvoiceDate': lambda x: (snapshot_date - x.max()).days,  # Recency\n",
    "    'InvoiceNo': 'nunique',                                    # Frequency\n",
    "    'TotalSum': 'sum'                                          # Monetary\n",
    "}).reset_index()\n",
    "\n",
    "rfm.columns = ['CustomerID', 'Recency', 'Frequency', 'Monetary']\n",
    "\n",
    "#positive spenders\n",
    "rfm = rfm[rfm['Monetary'] > 0]\n",
    "\n",
    "rfm.head()\n"
   ]
  },
  {
   "cell_type": "markdown",
   "id": "344df5e5-3aee-427b-9110-482eb53ddff5",
   "metadata": {},
   "source": [
    "## 4 Assign RFM Scores\n",
    "\n",
    "To rank customers:\n",
    "\n",
    "\n",
    "- I assigned scores 1 (low) to 4 (high) for each R, F, and M metric using quartiles.  \n",
    "- Recent buyers, frequent buyers, and high spenders get **higher scores**.  \n",
    "- Combined all three scores to get a total **RFM_Score** and an **RFM_Segment** code (e.g., 443).  \n"
   ]
  },
  {
   "cell_type": "code",
   "execution_count": 36,
   "id": "a0eca133-ef8b-41b0-b2d9-8b94e97eabe2",
   "metadata": {},
   "outputs": [
    {
     "data": {
      "text/html": [
       "<div>\n",
       "<style scoped>\n",
       "    .dataframe tbody tr th:only-of-type {\n",
       "        vertical-align: middle;\n",
       "    }\n",
       "\n",
       "    .dataframe tbody tr th {\n",
       "        vertical-align: top;\n",
       "    }\n",
       "\n",
       "    .dataframe thead th {\n",
       "        text-align: right;\n",
       "    }\n",
       "</style>\n",
       "<table border=\"1\" class=\"dataframe\">\n",
       "  <thead>\n",
       "    <tr style=\"text-align: right;\">\n",
       "      <th></th>\n",
       "      <th>CustomerID</th>\n",
       "      <th>Recency</th>\n",
       "      <th>Frequency</th>\n",
       "      <th>Monetary</th>\n",
       "      <th>R_score</th>\n",
       "      <th>F_score</th>\n",
       "      <th>M_score</th>\n",
       "      <th>RFM_Segment</th>\n",
       "      <th>RFM_Score</th>\n",
       "    </tr>\n",
       "  </thead>\n",
       "  <tbody>\n",
       "    <tr>\n",
       "      <th>0</th>\n",
       "      <td>12346.0</td>\n",
       "      <td>326</td>\n",
       "      <td>1</td>\n",
       "      <td>77183.60</td>\n",
       "      <td>1</td>\n",
       "      <td>1</td>\n",
       "      <td>4</td>\n",
       "      <td>114</td>\n",
       "      <td>6</td>\n",
       "    </tr>\n",
       "    <tr>\n",
       "      <th>1</th>\n",
       "      <td>12347.0</td>\n",
       "      <td>2</td>\n",
       "      <td>7</td>\n",
       "      <td>4310.00</td>\n",
       "      <td>4</td>\n",
       "      <td>4</td>\n",
       "      <td>4</td>\n",
       "      <td>444</td>\n",
       "      <td>12</td>\n",
       "    </tr>\n",
       "    <tr>\n",
       "      <th>2</th>\n",
       "      <td>12348.0</td>\n",
       "      <td>75</td>\n",
       "      <td>4</td>\n",
       "      <td>1797.24</td>\n",
       "      <td>2</td>\n",
       "      <td>3</td>\n",
       "      <td>4</td>\n",
       "      <td>234</td>\n",
       "      <td>9</td>\n",
       "    </tr>\n",
       "    <tr>\n",
       "      <th>3</th>\n",
       "      <td>12349.0</td>\n",
       "      <td>19</td>\n",
       "      <td>1</td>\n",
       "      <td>1757.55</td>\n",
       "      <td>3</td>\n",
       "      <td>1</td>\n",
       "      <td>4</td>\n",
       "      <td>314</td>\n",
       "      <td>8</td>\n",
       "    </tr>\n",
       "    <tr>\n",
       "      <th>4</th>\n",
       "      <td>12350.0</td>\n",
       "      <td>310</td>\n",
       "      <td>1</td>\n",
       "      <td>334.40</td>\n",
       "      <td>1</td>\n",
       "      <td>1</td>\n",
       "      <td>2</td>\n",
       "      <td>112</td>\n",
       "      <td>4</td>\n",
       "    </tr>\n",
       "  </tbody>\n",
       "</table>\n",
       "</div>"
      ],
      "text/plain": [
       "   CustomerID  Recency  Frequency  Monetary  R_score  F_score  M_score  \\\n",
       "0     12346.0      326          1  77183.60        1        1        4   \n",
       "1     12347.0        2          7   4310.00        4        4        4   \n",
       "2     12348.0       75          4   1797.24        2        3        4   \n",
       "3     12349.0       19          1   1757.55        3        1        4   \n",
       "4     12350.0      310          1    334.40        1        1        2   \n",
       "\n",
       "  RFM_Segment  RFM_Score  \n",
       "0         114          6  \n",
       "1         444         12  \n",
       "2         234          9  \n",
       "3         314          8  \n",
       "4         112          4  "
      ]
     },
     "execution_count": 36,
     "metadata": {},
     "output_type": "execute_result"
    }
   ],
   "source": [
    "# Score each metric from 1 (low) to 4 (high)\n",
    "rfm['R_score'] = pd.qcut(rfm['Recency'], 4, labels=[4, 3, 2, 1]).astype(int)\n",
    "rfm['F_score'] = pd.qcut(rfm['Frequency'].rank(method='first'), 4, labels=[1, 2, 3, 4]).astype(int)\n",
    "rfm['M_score'] = pd.qcut(rfm['Monetary'], 4, labels=[1, 2, 3, 4]).astype(int)\n",
    "\n",
    "rfm['RFM_Segment'] = rfm['R_score'].astype(str) + rfm['F_score'].astype(str) + rfm['M_score'].astype(str)\n",
    "rfm['RFM_Score'] = rfm[['R_score', 'F_score', 'M_score']].sum(axis=1)\n",
    "\n",
    "rfm.head()\n"
   ]
  },
  {
   "cell_type": "markdown",
   "id": "a0a6191d-9129-4b25-bf07-b09ac79773e1",
   "metadata": {},
   "source": [
    "## 5 Create Customer Segments\n",
    "\n",
    "Based on RFM_Score, we divided customers into segments such as:\n",
    "\n",
    "- **Champions:** Highest scores – recent, frequent, and high-spending customers.  \n",
    "- **Loyal Customers:** Often Buy and spend consistently.  \n",
    "- **Potential Loyalists:** Could become loyal with the right incentives.  \n",
    "- **At Risk:** Haven’t purchased in a long time, may need re-engagement.  \n",
    "\n",
    "This segmentation allows targeted marketing strategies for each group.\n"
   ]
  },
  {
   "cell_type": "code",
   "execution_count": 37,
   "id": "cb792c7d-39b2-4a67-b4af-666fada9ba51",
   "metadata": {},
   "outputs": [
    {
     "data": {
      "text/plain": [
       "Segment\n",
       "Champions             1679\n",
       "Potential Loyalist     988\n",
       "Loyal Customers        864\n",
       "At Risk                807\n",
       "Name: count, dtype: int64"
      ]
     },
     "execution_count": 37,
     "metadata": {},
     "output_type": "execute_result"
    }
   ],
   "source": [
    "def segment_customer(score):\n",
    "    if score >= 9:\n",
    "        return 'Champions'\n",
    "    elif score >= 7:\n",
    "        return 'Loyal Customers'\n",
    "    elif score >= 5:\n",
    "        return 'Potential Loyalist'\n",
    "    else:\n",
    "        return 'At Risk'\n",
    "\n",
    "rfm['Segment'] = rfm['RFM_Score'].apply(segment_customer)\n",
    "\n",
    "# Check segment distribution\n",
    "rfm['Segment'].value_counts()\n"
   ]
  },
  {
   "cell_type": "markdown",
   "id": "46a8e4fe-1f49-4d18-b813-46ca75a84ce2",
   "metadata": {},
   "source": [
    "## 6 Visualize the Segments\n",
    "\n",
    "We created visualizations to understand the distribution of customers:\n",
    "\n",
    "- **Bar Chart:** Number of customers in each segment.  \n",
    "- **Heatmap:** Shows average monetary value by Recency and Frequency scores.  \n",
    "\n",
    "These visuals help stakeholders quickly identify the most valuable segments.\n"
   ]
  },
  {
   "cell_type": "code",
   "execution_count": 38,
   "id": "2898cb1d-709b-47ea-a53f-332f9759b1e7",
   "metadata": {},
   "outputs": [
    {
     "name": "stderr",
     "output_type": "stream",
     "text": [
      "C:\\Users\\Hp\\AppData\\Local\\Temp\\ipykernel_13568\\3028800140.py:3: FutureWarning: \n",
      "\n",
      "Passing `palette` without assigning `hue` is deprecated and will be removed in v0.14.0. Assign the `x` variable to `hue` and set `legend=False` for the same effect.\n",
      "\n",
      "  sns.countplot(data=rfm, x='Segment', order=rfm['Segment'].value_counts().index, palette='viridis')\n"
     ]
    },
    {
     "data": {
      "image/png": "[encoded data removed]",
      "text/plain": [
       "<Figure size 800x500 with 1 Axes>"
      ]
     },
     "metadata": {},
     "output_type": "display_data"
    }
   ],
   "source": [
    "# Bar plot\n",
    "plt.figure(figsize=(8,5))\n",
    "sns.countplot(data=rfm, x='Segment', order=rfm['Segment'].value_counts().index, palette='viridis')\n",
    "plt.title(\"Customer Segments (RFM)\")\n",
    "plt.ylabel(\"Number of Customers\")\n",
    "plt.xticks(rotation=45)\n",
    "plt.tight_layout()\n",
    "plt.show()\n"
   ]
  },
  {
   "cell_type": "code",
   "execution_count": 39,
   "id": "13455a9a-2c4c-417f-a1a5-75a2b9dfbb1d",
   "metadata": {},
   "outputs": [
    {
     "data": {
      "image/png": "[encoded data removed]",
      "text/plain": [
       "<Figure size 600x500 with 2 Axes>"
      ]
     },
     "metadata": {},
     "output_type": "display_data"
    }
   ],
   "source": [
    "# Heatmap of RFM combinations\n",
    "rfm_pivot = rfm.pivot_table(index='R_score', columns='F_score', values='Monetary', aggfunc='mean')\n",
    "plt.figure(figsize=(6,5))\n",
    "sns.heatmap(rfm_pivot, annot=True, fmt='.0f', cmap='YlGnBu')\n",
    "plt.title(\"Average Monetary Value by R and F Score\")\n",
    "plt.show()\n"
   ]
  },
  {
   "cell_type": "markdown",
   "id": "f96f2ed2-e7b7-44dd-9bf8-28987cfdb0de",
   "metadata": {},
   "source": [
    "## 7 Marketing Insights\n",
    "\n",
    "By analyzing the RFM segments, here are suggested strategies that can maximize customer lifetime value:\n",
    "\n",
    "- **Champions (Top RFM scores):**  \n",
    "  - These customers buy frequently, spend the most, and purchased recently.  \n",
    "  - **Strategy:** Reward them with exclusive rewards, early access to new products, and VIP programs to strengthen loyalty and turn them into brand advocates.  \n",
    "\n",
    "- **Loyal Customers (High frequency, good spenders):**  \n",
    "  - They consistently purchase, but may not be the highest spenders.  \n",
    "  - **Strategy:** Introduce tier-based loyalty points, referral bonuses, and personalized recommendations to increase average order value.  \n",
    "\n",
    "- **Potential Loyalists (Good recent activity but lower frequency):**  \n",
    "  - They have shown interest but haven't purchased frequently yet.  \n",
    "  - **Strategy:** Nurture them with onboarding offers, targeted product bundles, and personalized discounts to encourage repeat purchases.  \n",
    "\n",
    "- **At Risk (Low recency, low frequency):**  \n",
    "  - These customers are slipping away and may churn.  \n",
    "  - **Strategy:** Re-engage with win-back campaigns, time-limited offers, or surveys to understand why they stopped buying.  \n",
    "\n",
    "These insights allow businesses to allocate resources more effectively and create personalized campaigns that improve retention, reactivation, and revenue growth.\n"
   ]
  }
 ],
 "metadata": {
  "kernelspec": {
   "display_name": "Python 3 (ipykernel)",
   "language": "python",
   "name": "python3"
  },
  "language_info": {
   "codemirror_mode": {
    "name": "ipython",
    "version": 3
   },
   "file_extension": ".py",
   "mimetype": "text/x-python",
   "name": "python",
   "nbconvert_exporter": "python",
   "pygments_lexer": "ipython3",
   "version": "3.9.6"
  }
 },
 "nbformat": 4,
 "nbformat_minor": 5
}
